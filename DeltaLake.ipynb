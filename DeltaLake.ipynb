{
  "nbformat": 4,
  "nbformat_minor": 0,
  "metadata": {
    "colab": {
      "provenance": [],
      "authorship_tag": "ABX9TyP8aGR1BFjMw4Yc0xMereXT",
      "include_colab_link": true
    },
    "kernelspec": {
      "name": "python3",
      "display_name": "Python 3"
    },
    "language_info": {
      "name": "python"
    }
  },
  "cells": [
    {
      "cell_type": "markdown",
      "metadata": {
        "id": "view-in-github",
        "colab_type": "text"
      },
      "source": [
        "<a href=\"https://colab.research.google.com/github/sandeepgundeboina/Preppin-Data/blob/main/DeltaLake.ipynb\" target=\"_parent\"><img src=\"https://colab.research.google.com/assets/colab-badge.svg\" alt=\"Open In Colab\"/></a>"
      ]
    },
    {
      "cell_type": "code",
      "source": [
        "!pip install delta-spark==2.0.0\n",
        "\n",
        "import pyspark\n",
        "from pyspark.sql import SparkSession\n",
        "spark = SparkSession.builder \\\n",
        "    .appName(\"DeltaTableExample\") \\\n",
        "    .config(\"spark.jars.packages\", \"io.delta:delta-core_2.12:2.0.0\") \\\n",
        "    .config(\"spark.sql.extensions\", \"io.delta.sql.DeltaSparkSessionExtension\") \\\n",
        "    .config(\"spark.sql.catalog.spark_catalog\", \"org.apache.spark.sql.delta.catalog.DeltaCatalog\") \\\n",
        "    .getOrCreate()"
      ],
      "metadata": {
        "colab": {
          "base_uri": "https://localhost:8080/"
        },
        "id": "z5Yio_HDsj_X",
        "outputId": "388b571c-cdb0-4658-da86-74ae10cea873"
      },
      "execution_count": null,
      "outputs": [
        {
          "output_type": "stream",
          "name": "stdout",
          "text": [
            "Collecting delta-spark==2.0.0\n",
            "  Downloading delta_spark-2.0.0-py3-none-any.whl.metadata (1.9 kB)\n",
            "Collecting pyspark<3.3.0,>=3.2.0 (from delta-spark==2.0.0)\n",
            "  Downloading pyspark-3.2.4.tar.gz (281.5 MB)\n",
            "\u001b[2K     \u001b[90m━━━━━━━━━━━━━━━━━━━━━━━━━━━━━━━━━━━━━━━━\u001b[0m \u001b[32m281.5/281.5 MB\u001b[0m \u001b[31m1.6 MB/s\u001b[0m eta \u001b[36m0:00:00\u001b[0m\n",
            "\u001b[?25h  Preparing metadata (setup.py) ... \u001b[?25l\u001b[?25hdone\n",
            "Requirement already satisfied: importlib-metadata>=1.0.0 in /usr/local/lib/python3.10/dist-packages (from delta-spark==2.0.0) (8.5.0)\n",
            "Requirement already satisfied: zipp>=3.20 in /usr/local/lib/python3.10/dist-packages (from importlib-metadata>=1.0.0->delta-spark==2.0.0) (3.20.2)\n",
            "Collecting py4j==0.10.9.5 (from pyspark<3.3.0,>=3.2.0->delta-spark==2.0.0)\n",
            "  Downloading py4j-0.10.9.5-py2.py3-none-any.whl.metadata (1.5 kB)\n",
            "Downloading delta_spark-2.0.0-py3-none-any.whl (20 kB)\n",
            "Downloading py4j-0.10.9.5-py2.py3-none-any.whl (199 kB)\n",
            "\u001b[2K   \u001b[90m━━━━━━━━━━━━━━━━━━━━━━━━━━━━━━━━━━━━━━━━\u001b[0m \u001b[32m199.7/199.7 kB\u001b[0m \u001b[31m12.0 MB/s\u001b[0m eta \u001b[36m0:00:00\u001b[0m\n",
            "\u001b[?25hBuilding wheels for collected packages: pyspark\n",
            "  Building wheel for pyspark (setup.py) ... \u001b[?25l\u001b[?25hdone\n",
            "  Created wheel for pyspark: filename=pyspark-3.2.4-py2.py3-none-any.whl size=282040916 sha256=85ca7e40be5bb6534b61ea7fa7a991f56f9b45abe6cfd8feb5fb60fdf1024f21\n",
            "  Stored in directory: /root/.cache/pip/wheels/e7/e3/c8/c358dac750f2b6a4b03328d10e05a5c69501664bd6504b6c3e\n",
            "Successfully built pyspark\n",
            "Installing collected packages: py4j, pyspark, delta-spark\n",
            "  Attempting uninstall: py4j\n",
            "    Found existing installation: py4j 0.10.9.7\n",
            "    Uninstalling py4j-0.10.9.7:\n",
            "      Successfully uninstalled py4j-0.10.9.7\n",
            "  Attempting uninstall: pyspark\n",
            "    Found existing installation: pyspark 3.5.3\n",
            "    Uninstalling pyspark-3.5.3:\n",
            "      Successfully uninstalled pyspark-3.5.3\n",
            "Successfully installed delta-spark-2.0.0 py4j-0.10.9.5 pyspark-3.2.4\n"
          ]
        }
      ]
    },
    {
      "cell_type": "code",
      "source": [
        "from delta.tables import *\n",
        "DeltaTable.createOrReplace(spark) \\\n",
        "          .tableName(\"delta_table\") \\\n",
        "          .addColumn(\"id\", \"INT\") \\\n",
        "          .addColumn(\"name\", \"STRING\") \\\n",
        "          .addColumn(\"Subject\", \"String\") \\\n",
        "          .addColumn('MarksObtained', 'Int') \\\n",
        "          .addColumn('Percentage', 'Float')\\\n",
        "          .property('description','For Demo Purpose')\\\n",
        "          .location('/content/sample_data/delta_table')\\\n",
        "          .execute()"
      ],
      "metadata": {
        "colab": {
          "base_uri": "https://localhost:8080/"
        },
        "id": "5lJmMhYktcSw",
        "outputId": "37b12282-57c4-4ce1-bb92-1fbacfca7b78"
      },
      "execution_count": null,
      "outputs": [
        {
          "output_type": "execute_result",
          "data": {
            "text/plain": [
              "<delta.tables.DeltaTable at 0x7d49b90c0100>"
            ]
          },
          "metadata": {},
          "execution_count": 2
        }
      ]
    },
    {
      "cell_type": "code",
      "source": [
        "\n",
        "!cat /content/sample_data/delta_table/_delta_log/00000000000000000000.json | head -5"
      ],
      "metadata": {
        "colab": {
          "base_uri": "https://localhost:8080/"
        },
        "id": "keMLSxSHv7HS",
        "outputId": "7c28385b-0b09-4eb0-b1de-39bfb639c642"
      },
      "execution_count": null,
      "outputs": [
        {
          "output_type": "stream",
          "name": "stdout",
          "text": [
            "{\"protocol\":{\"minReaderVersion\":1,\"minWriterVersion\":2}}\n",
            "{\"metaData\":{\"id\":\"bf4041bc-8958-4bbb-9831-6be594749d51\",\"format\":{\"provider\":\"parquet\",\"options\":{}},\"schemaString\":\"{\\\"type\\\":\\\"struct\\\",\\\"fields\\\":[{\\\"name\\\":\\\"id\\\",\\\"type\\\":\\\"integer\\\",\\\"nullable\\\":true,\\\"metadata\\\":{}},{\\\"name\\\":\\\"name\\\",\\\"type\\\":\\\"string\\\",\\\"nullable\\\":true,\\\"metadata\\\":{}},{\\\"name\\\":\\\"Subject\\\",\\\"type\\\":\\\"string\\\",\\\"nullable\\\":true,\\\"metadata\\\":{}},{\\\"name\\\":\\\"MarksObtained\\\",\\\"type\\\":\\\"integer\\\",\\\"nullable\\\":true,\\\"metadata\\\":{}},{\\\"name\\\":\\\"Percentage\\\",\\\"type\\\":\\\"float\\\",\\\"nullable\\\":true,\\\"metadata\\\":{}}]}\",\"partitionColumns\":[],\"configuration\":{\"description\":\"For Demo Purpose\"},\"createdTime\":1731317902441}}\n",
            "{\"commitInfo\":{\"timestamp\":1731317903384,\"operation\":\"CREATE OR REPLACE TABLE\",\"operationParameters\":{\"isManaged\":\"false\",\"description\":null,\"partitionBy\":\"[]\",\"properties\":\"{\\\"description\\\":\\\"For Demo Purpose\\\"}\"},\"isolationLevel\":\"Serializable\",\"isBlindAppend\":true,\"operationMetrics\":{},\"engineInfo\":\"Apache-Spark/3.2.4 Delta-Lake/2.0.0\",\"txnId\":\"f8329d48-f37c-49a3-a784-c6456f63c03f\"}}\n"
          ]
        }
      ]
    },
    {
      "cell_type": "code",
      "source": [
        "delta_table = spark.read.format(\"delta\").load(\"/content/sample_data/delta_table\")"
      ],
      "metadata": {
        "id": "obtyyVPq0v_e"
      },
      "execution_count": null,
      "outputs": []
    },
    {
      "cell_type": "code",
      "source": [
        "delta_table.show()"
      ],
      "metadata": {
        "colab": {
          "base_uri": "https://localhost:8080/"
        },
        "id": "FyPcDcyi18Oa",
        "outputId": "35ee0da5-cc7c-453a-a726-95674336898f"
      },
      "execution_count": null,
      "outputs": [
        {
          "output_type": "stream",
          "name": "stdout",
          "text": [
            "+---+----+-------+-------------+----------+\n",
            "| id|name|Subject|MarksObtained|Percentage|\n",
            "+---+----+-------+-------------+----------+\n",
            "+---+----+-------+-------------+----------+\n",
            "\n"
          ]
        }
      ]
    },
    {
      "cell_type": "code",
      "source": [
        "# Create a new DataFrame with new records, explicitly defining schema\n",
        "from pyspark.sql.types import StructType, StructField, IntegerType, StringType, FloatType\n",
        "\n",
        "new_data = [(1,'Sandeep','Maths',907,90.7)]\n",
        "schema = StructType([\n",
        "    StructField(\"id\", IntegerType(), True),\n",
        "    StructField(\"name\", StringType(), True),\n",
        "    StructField(\"Subject\", StringType(), True),\n",
        "    StructField(\"MarksObtained\", IntegerType(), True),\n",
        "    StructField(\"Percentage\", FloatType(), True)\n",
        "])\n",
        "new_df = spark.createDataFrame(new_data, schema)\n",
        "\n",
        "# Append the new DataFrame to the existing Delta table\n",
        "new_df.write.format(\"delta\").mode(\"append\").save(\"/content/sample_data/delta_table\")\n",
        "updated_delta_df = spark.read.format(\"delta\").load('/content/sample_data/delta_table')\n",
        "updated_delta_df.show()"
      ],
      "metadata": {
        "colab": {
          "base_uri": "https://localhost:8080/"
        },
        "id": "IsIxz4T6bdRo",
        "outputId": "65bd33e1-aefd-4f57-eda9-44e257de34cc"
      },
      "execution_count": null,
      "outputs": [
        {
          "output_type": "stream",
          "name": "stdout",
          "text": [
            "+---+-------+-------+-------------+----------+\n",
            "| id|   name|Subject|MarksObtained|Percentage|\n",
            "+---+-------+-------+-------------+----------+\n",
            "|  1|Sandeep|  Maths|          907|      90.7|\n",
            "+---+-------+-------+-------------+----------+\n",
            "\n"
          ]
        }
      ]
    },
    {
      "cell_type": "code",
      "source": [
        "delta_table.show()"
      ],
      "metadata": {
        "colab": {
          "base_uri": "https://localhost:8080/"
        },
        "id": "Bv_8cpK9b0dL",
        "outputId": "bca5fba0-841a-48a0-bc7d-0a009afeeeae"
      },
      "execution_count": null,
      "outputs": [
        {
          "output_type": "stream",
          "name": "stdout",
          "text": [
            "+---+-------+-------+-------------+----------+\n",
            "| id|   name|Subject|MarksObtained|Percentage|\n",
            "+---+-------+-------+-------------+----------+\n",
            "|  1|Sandeep|  Maths|          907|      90.7|\n",
            "+---+-------+-------+-------------+----------+\n",
            "\n"
          ]
        }
      ]
    },
    {
      "cell_type": "code",
      "source": [
        "!cat /content/sample_data/delta_table/_delta_log/00000000000000000001.json | head -5"
      ],
      "metadata": {
        "colab": {
          "base_uri": "https://localhost:8080/"
        },
        "id": "jIGx4vBJcddC",
        "outputId": "14c10b92-f482-4f74-f704-af6693c03270"
      },
      "execution_count": null,
      "outputs": [
        {
          "output_type": "stream",
          "name": "stdout",
          "text": [
            "{\"add\":{\"path\":\"part-00000-c7f315d5-e50c-48f7-abf3-de9a5df7f9e6-c000.snappy.parquet\",\"partitionValues\":{},\"size\":652,\"modificationTime\":1731317932947,\"dataChange\":true,\"stats\":\"{\\\"numRecords\\\":0,\\\"minValues\\\":{},\\\"maxValues\\\":{},\\\"nullCount\\\":{}}\"}}\n",
            "{\"add\":{\"path\":\"part-00001-2ba15b3f-7f73-4331-862d-d6f0efc3f028-c000.snappy.parquet\",\"partitionValues\":{},\"size\":1448,\"modificationTime\":1731317932965,\"dataChange\":true,\"stats\":\"{\\\"numRecords\\\":1,\\\"minValues\\\":{\\\"id\\\":1,\\\"name\\\":\\\"Sandeep\\\",\\\"Subject\\\":\\\"Maths\\\",\\\"MarksObtained\\\":907,\\\"Percentage\\\":90.7},\\\"maxValues\\\":{\\\"id\\\":1,\\\"name\\\":\\\"Sandeep\\\",\\\"Subject\\\":\\\"Maths\\\",\\\"MarksObtained\\\":907,\\\"Percentage\\\":90.7},\\\"nullCount\\\":{\\\"id\\\":0,\\\"name\\\":0,\\\"Subject\\\":0,\\\"MarksObtained\\\":0,\\\"Percentage\\\":0}}\"}}\n",
            "{\"commitInfo\":{\"timestamp\":1731317933235,\"operation\":\"WRITE\",\"operationParameters\":{\"mode\":\"Append\",\"partitionBy\":\"[]\"},\"readVersion\":0,\"isolationLevel\":\"Serializable\",\"isBlindAppend\":true,\"operationMetrics\":{\"numFiles\":\"2\",\"numOutputRows\":\"1\",\"numOutputBytes\":\"2100\"},\"engineInfo\":\"Apache-Spark/3.2.4 Delta-Lake/2.0.0\",\"txnId\":\"79270150-d983-46e1-b61f-10b7b21a05c3\"}}\n"
          ]
        }
      ]
    },
    {
      "cell_type": "code",
      "source": [
        "new_data = [(2,'Rahul','Maths',924,92.4),(3,'Spandana',\"Maths\",963,96.3),(4,'Pradeep','Maths',948,94.8)]\n",
        "schema = StructType([\n",
        "    StructField(\"id\", IntegerType(), True),\n",
        "    StructField(\"name\", StringType(), True),\n",
        "    StructField(\"Subject\", StringType(), True),\n",
        "    StructField(\"MarksObtained\", IntegerType(), True),\n",
        "    StructField(\"Percentage\", FloatType(), True)\n",
        "])\n",
        "new_df = spark.createDataFrame(new_data, schema)\n",
        "\n",
        "# Append the new DataFrame to the existing Delta table\n",
        "new_df.write.format(\"delta\").mode(\"append\").save(\"/content/sample_data/delta_table\")\n",
        "updated_delta_df = spark.read.format(\"delta\").load('/content/sample_data/delta_table')\n",
        "updated_delta_df.show()"
      ],
      "metadata": {
        "colab": {
          "base_uri": "https://localhost:8080/"
        },
        "id": "BEuopjwnfMMA",
        "outputId": "0088da8c-0859-4ca5-f5ba-48ace5501876"
      },
      "execution_count": null,
      "outputs": [
        {
          "output_type": "stream",
          "name": "stdout",
          "text": [
            "+---+--------+-------+-------------+----------+\n",
            "| id|    name|Subject|MarksObtained|Percentage|\n",
            "+---+--------+-------+-------------+----------+\n",
            "|  3|Spandana|  Maths|          963|      96.3|\n",
            "|  4| Pradeep|  Maths|          948|      94.8|\n",
            "|  1| Sandeep|  Maths|          907|      90.7|\n",
            "|  2|   Rahul|  Maths|          924|      92.4|\n",
            "+---+--------+-------+-------------+----------+\n",
            "\n"
          ]
        }
      ]
    },
    {
      "cell_type": "code",
      "source": [
        "delta_table"
      ],
      "metadata": {
        "colab": {
          "base_uri": "https://localhost:8080/"
        },
        "id": "C3FDnvltfMIn",
        "outputId": "9cd9043c-00d8-4f62-e302-c44a31984a13"
      },
      "execution_count": null,
      "outputs": [
        {
          "output_type": "execute_result",
          "data": {
            "text/plain": [
              "DataFrame[id: int, name: string, Subject: string, MarksObtained: int, Percentage: float]"
            ]
          },
          "metadata": {},
          "execution_count": 10
        }
      ]
    },
    {
      "cell_type": "code",
      "source": [
        "!cat /content/sample_data/delta_table/_delta_log/00000000000000000003.json"
      ],
      "metadata": {
        "colab": {
          "base_uri": "https://localhost:8080/"
        },
        "id": "RqiiZH4bfMF0",
        "outputId": "b9210d5f-e889-4024-a1c1-a279bfedb769"
      },
      "execution_count": null,
      "outputs": [
        {
          "output_type": "stream",
          "name": "stdout",
          "text": [
            "cat: /content/sample_data/delta_table/_delta_log/00000000000000000003.json: No such file or directory\n"
          ]
        }
      ]
    },
    {
      "cell_type": "code",
      "source": [
        "from delta.tables import *\n",
        "\n",
        "# Assuming your Delta table is located at '/content/sample_data/delta_table'\n",
        "delta_table_instance = DeltaTable.forPath(spark, '/content/sample_data/delta_table')\n",
        "\n"
      ],
      "metadata": {
        "id": "rXXFw-gQiKvl"
      },
      "execution_count": null,
      "outputs": []
    },
    {
      "cell_type": "code",
      "source": [
        "delta_table_instance.toDF().show()"
      ],
      "metadata": {
        "colab": {
          "base_uri": "https://localhost:8080/"
        },
        "id": "ZDTGa6FSnLS0",
        "outputId": "30395a1e-4a6d-403e-9b6e-ad02c7f82e37"
      },
      "execution_count": null,
      "outputs": [
        {
          "output_type": "stream",
          "name": "stdout",
          "text": [
            "+---+--------+-------+-------------+----------+\n",
            "| id|    name|Subject|MarksObtained|Percentage|\n",
            "+---+--------+-------+-------------+----------+\n",
            "|  3|Spandana|  Maths|          963|      96.3|\n",
            "|  4| Pradeep|  Maths|          948|      94.8|\n",
            "|  1| Sandeep|  Maths|          907|      90.7|\n",
            "|  2|   Rahul|  Maths|          924|      92.4|\n",
            "+---+--------+-------+-------------+----------+\n",
            "\n"
          ]
        }
      ]
    },
    {
      "cell_type": "code",
      "source": [
        "delta_table_instance.delete(\"id = 2\")"
      ],
      "metadata": {
        "id": "EnVGEK-wovYz"
      },
      "execution_count": null,
      "outputs": []
    },
    {
      "cell_type": "code",
      "source": [
        "delta_table_instance.toDF().show()"
      ],
      "metadata": {
        "colab": {
          "base_uri": "https://localhost:8080/"
        },
        "id": "ZmiGe7hrou47",
        "outputId": "5c26ebc5-35b3-436d-cf43-f18a247203cd"
      },
      "execution_count": null,
      "outputs": [
        {
          "output_type": "stream",
          "name": "stdout",
          "text": [
            "+---+--------+-------+-------------+----------+\n",
            "| id|    name|Subject|MarksObtained|Percentage|\n",
            "+---+--------+-------+-------------+----------+\n",
            "|  3|Spandana|  Maths|          963|      96.3|\n",
            "|  4| Pradeep|  Maths|          948|      94.8|\n",
            "|  1| Sandeep|  Maths|          907|      90.7|\n",
            "+---+--------+-------+-------------+----------+\n",
            "\n"
          ]
        }
      ]
    },
    {
      "cell_type": "code",
      "source": [
        "f=spark.read.format('delta').load('/content/sample_data/delta_table')\n",
        "f.show()"
      ],
      "metadata": {
        "colab": {
          "base_uri": "https://localhost:8080/"
        },
        "id": "huIQhmBPicuD",
        "outputId": "253b25ef-32ea-43f1-ce61-f8c9232a5eec"
      },
      "execution_count": null,
      "outputs": [
        {
          "output_type": "stream",
          "name": "stdout",
          "text": [
            "+---+--------+-------+-------------+----------+\n",
            "| id|    name|Subject|MarksObtained|Percentage|\n",
            "+---+--------+-------+-------------+----------+\n",
            "|  3|Spandana|  Maths|          963|      96.3|\n",
            "|  4| Pradeep|  Maths|          948|      94.8|\n",
            "|  1| Sandeep|  Maths|          907|      90.7|\n",
            "+---+--------+-------+-------------+----------+\n",
            "\n"
          ]
        }
      ]
    },
    {
      "cell_type": "code",
      "source": [
        "delta_instance=DeltaTable.forName(spark,'delta_table')\n",
        "delta_instance.toDF().show()"
      ],
      "metadata": {
        "colab": {
          "base_uri": "https://localhost:8080/"
        },
        "id": "OZOhuTrGi6Kk",
        "outputId": "984e9b21-58e3-45c7-8534-f6f527c4452e"
      },
      "execution_count": null,
      "outputs": [
        {
          "output_type": "stream",
          "name": "stdout",
          "text": [
            "+---+--------+-------+-------------+----------+\n",
            "| id|    name|Subject|MarksObtained|Percentage|\n",
            "+---+--------+-------+-------------+----------+\n",
            "|  3|Spandana|  Maths|          963|      96.3|\n",
            "|  4| Pradeep|  Maths|          948|      94.8|\n",
            "|  1| Sandeep|  Maths|          907|      90.7|\n",
            "+---+--------+-------+-------------+----------+\n",
            "\n"
          ]
        }
      ]
    },
    {
      "cell_type": "code",
      "source": [
        "delta_instance.history().show()"
      ],
      "metadata": {
        "colab": {
          "base_uri": "https://localhost:8080/"
        },
        "id": "DswEGPt5nLIG",
        "outputId": "482cfaac-adba-4637-8692-fd023edf939d"
      },
      "execution_count": null,
      "outputs": [
        {
          "output_type": "stream",
          "name": "stdout",
          "text": [
            "+-------+--------------------+------+--------+--------------------+--------------------+----+--------+---------+-----------+--------------+-------------+--------------------+------------+--------------------+\n",
            "|version|           timestamp|userId|userName|           operation| operationParameters| job|notebook|clusterId|readVersion|isolationLevel|isBlindAppend|    operationMetrics|userMetadata|          engineInfo|\n",
            "+-------+--------------------+------+--------+--------------------+--------------------+----+--------+---------+-----------+--------------+-------------+--------------------+------------+--------------------+\n",
            "|      3|2024-11-11 09:39:...|  null|    null|              DELETE|{predicate -> [\"(...|null|    null|     null|          2|  Serializable|        false|{numRemovedFiles ...|        null|Apache-Spark/3.2....|\n",
            "|      2|2024-11-11 09:39:...|  null|    null|               WRITE|{mode -> Append, ...|null|    null|     null|          1|  Serializable|         true|{numFiles -> 2, n...|        null|Apache-Spark/3.2....|\n",
            "|      1|2024-11-11 09:38:...|  null|    null|               WRITE|{mode -> Append, ...|null|    null|     null|          0|  Serializable|         true|{numFiles -> 2, n...|        null|Apache-Spark/3.2....|\n",
            "|      0|2024-11-11 09:38:...|  null|    null|CREATE OR REPLACE...|{isManaged -> fal...|null|    null|     null|       null|  Serializable|         true|                  {}|        null|Apache-Spark/3.2....|\n",
            "+-------+--------------------+------+--------+--------------------+--------------------+----+--------+---------+-----------+--------------+-------------+--------------------+------------+--------------------+\n",
            "\n"
          ]
        }
      ]
    },
    {
      "cell_type": "code",
      "source": [
        "new_data1 = [(6,'Advik','Games',999,99.9),(7,'Aashritha','Cooking',954,95.4)]\n",
        "schema = StructType([\n",
        "    StructField(\"id\", IntegerType(), True),\n",
        "    StructField(\"name\", StringType(), True),\n",
        "    StructField(\"Subject\", StringType(), True),\n",
        "    StructField(\"MarksObtained\", IntegerType(), True),\n",
        "    StructField(\"Percentage\", FloatType(), True)\n",
        "])\n",
        "new_df = spark.createDataFrame(new_data1, schema)"
      ],
      "metadata": {
        "id": "oDcgXnTknLPV"
      },
      "execution_count": null,
      "outputs": []
    },
    {
      "cell_type": "code",
      "source": [
        "new_df.write.insertInto('delta_table',overwrite=False)"
      ],
      "metadata": {
        "id": "lXvPT-VLked6"
      },
      "execution_count": null,
      "outputs": []
    },
    {
      "cell_type": "code",
      "source": [
        "delta_instance.toDF().show()"
      ],
      "metadata": {
        "colab": {
          "base_uri": "https://localhost:8080/"
        },
        "id": "yd_s6ABksszN",
        "outputId": "b6648cf9-3fb4-4c85-85c8-734ab47eba0c"
      },
      "execution_count": null,
      "outputs": [
        {
          "output_type": "stream",
          "name": "stdout",
          "text": [
            "+---+---------+-------+-------------+----------+\n",
            "| id|     name|Subject|MarksObtained|Percentage|\n",
            "+---+---------+-------+-------------+----------+\n",
            "|  3| Spandana|  Maths|          963|      96.3|\n",
            "|  4|  Pradeep|  Maths|          948|      94.8|\n",
            "|  7|Aashritha|Cooking|          954|      95.4|\n",
            "|  1|  Sandeep|  Maths|          907|      90.7|\n",
            "|  6|    Advik|  Games|          999|      99.9|\n",
            "+---+---------+-------+-------------+----------+\n",
            "\n"
          ]
        }
      ]
    },
    {
      "cell_type": "code",
      "source": [
        "spark.sql('select * from delta_table').show()"
      ],
      "metadata": {
        "colab": {
          "base_uri": "https://localhost:8080/"
        },
        "id": "ifCtNyprsxSn",
        "outputId": "cf85471a-f53c-4b24-c432-d78f5636bf85"
      },
      "execution_count": null,
      "outputs": [
        {
          "output_type": "stream",
          "name": "stdout",
          "text": [
            "+---+---------+-------+-------------+----------+\n",
            "| id|     name|Subject|MarksObtained|Percentage|\n",
            "+---+---------+-------+-------------+----------+\n",
            "|  3| Spandana|  Maths|          963|      96.3|\n",
            "|  4|  Pradeep|  Maths|          948|      94.8|\n",
            "|  7|Aashritha|Cooking|          954|      95.4|\n",
            "|  1|  Sandeep|  Maths|          907|      90.7|\n",
            "|  6|    Advik|  Games|          999|      99.9|\n",
            "+---+---------+-------+-------------+----------+\n",
            "\n"
          ]
        }
      ]
    },
    {
      "cell_type": "code",
      "source": [
        "new_data1 = [(8,'Ram','Science',987,98.7)]\n",
        "schema = StructType([\n",
        "    StructField(\"id\", IntegerType(), True),\n",
        "    StructField(\"name\", StringType(), True),\n",
        "    StructField(\"Subject\", StringType(), True),\n",
        "    StructField(\"MarksObtained\", IntegerType(), True),\n",
        "    StructField(\"Percentage\", FloatType(), True)\n",
        "])\n",
        "new_df = spark.createDataFrame(new_data1, schema)"
      ],
      "metadata": {
        "id": "8ittbRMp-sBm"
      },
      "execution_count": null,
      "outputs": []
    },
    {
      "cell_type": "code",
      "source": [
        "new_df.write.format('delta').mode('append').saveAsTable('delta_table')"
      ],
      "metadata": {
        "id": "VHx5vGvB-r9Y"
      },
      "execution_count": null,
      "outputs": []
    },
    {
      "cell_type": "code",
      "source": [
        "spark.sql('select * from delta_table').show()"
      ],
      "metadata": {
        "colab": {
          "base_uri": "https://localhost:8080/"
        },
        "id": "RySI0RlN5efj",
        "outputId": "4633ac54-e9af-4857-cd03-76d4bdf7975c"
      },
      "execution_count": null,
      "outputs": [
        {
          "output_type": "stream",
          "name": "stdout",
          "text": [
            "+---+---------+-------+-------------+----------+\n",
            "| id|     name|Subject|MarksObtained|Percentage|\n",
            "+---+---------+-------+-------------+----------+\n",
            "|  3| Spandana|  Maths|          963|      96.3|\n",
            "|  4|  Pradeep|  Maths|          948|      94.8|\n",
            "|  7|Aashritha|Cooking|          954|      95.4|\n",
            "|  1|  Sandeep|  Maths|          907|      90.7|\n",
            "|  6|    Advik|  Games|          999|      99.9|\n",
            "|  8|      Ram|Science|          987|      98.7|\n",
            "+---+---------+-------+-------------+----------+\n",
            "\n"
          ]
        }
      ]
    },
    {
      "cell_type": "code",
      "source": [
        "spark.sql(\"delete from delta_table where id=8\")"
      ],
      "metadata": {
        "colab": {
          "base_uri": "https://localhost:8080/"
        },
        "id": "e8VQVmJW7Gu7",
        "outputId": "931a3bca-9dd6-41ca-a2b7-f4b389440325"
      },
      "execution_count": null,
      "outputs": [
        {
          "output_type": "execute_result",
          "data": {
            "text/plain": [
              "DataFrame[]"
            ]
          },
          "metadata": {},
          "execution_count": 26
        }
      ]
    },
    {
      "cell_type": "code",
      "source": [
        "spark.sql('select * from delta_table').show()"
      ],
      "metadata": {
        "colab": {
          "base_uri": "https://localhost:8080/"
        },
        "id": "g9chTGvQ_-vj",
        "outputId": "d6e9e43d-c475-4244-9554-490d5a99c74f"
      },
      "execution_count": null,
      "outputs": [
        {
          "output_type": "stream",
          "name": "stdout",
          "text": [
            "+---+---------+-------+-------------+----------+\n",
            "| id|     name|Subject|MarksObtained|Percentage|\n",
            "+---+---------+-------+-------------+----------+\n",
            "|  3| Spandana|  Maths|          963|      96.3|\n",
            "|  4|  Pradeep|  Maths|          948|      94.8|\n",
            "|  7|Aashritha|Cooking|          954|      95.4|\n",
            "|  1|  Sandeep|  Maths|          907|      90.7|\n",
            "|  6|    Advik|  Games|          999|      99.9|\n",
            "+---+---------+-------+-------------+----------+\n",
            "\n"
          ]
        }
      ]
    },
    {
      "cell_type": "code",
      "source": [
        "spark.sql(\"update delta_table set Percentage=95 where Subject='Cooking'\")"
      ],
      "metadata": {
        "colab": {
          "base_uri": "https://localhost:8080/"
        },
        "id": "qAnluWTjLp6m",
        "outputId": "b34b80b5-1dbc-42ff-cc21-4655b57b16b9"
      },
      "execution_count": null,
      "outputs": [
        {
          "output_type": "execute_result",
          "data": {
            "text/plain": [
              "DataFrame[]"
            ]
          },
          "metadata": {},
          "execution_count": 28
        }
      ]
    },
    {
      "cell_type": "code",
      "source": [
        "spark.sql('select * from delta_table').show()"
      ],
      "metadata": {
        "colab": {
          "base_uri": "https://localhost:8080/"
        },
        "id": "PNploRnrLrD_",
        "outputId": "9958d93e-364e-4ac7-98dc-95c1609dec8d"
      },
      "execution_count": null,
      "outputs": [
        {
          "output_type": "stream",
          "name": "stdout",
          "text": [
            "+---+---------+-------+-------------+----------+\n",
            "| id|     name|Subject|MarksObtained|Percentage|\n",
            "+---+---------+-------+-------------+----------+\n",
            "|  3| Spandana|  Maths|          963|      96.3|\n",
            "|  4|  Pradeep|  Maths|          948|      94.8|\n",
            "|  7|Aashritha|Cooking|          954|      95.0|\n",
            "|  1|  Sandeep|  Maths|          907|      90.7|\n",
            "|  6|    Advik|  Games|          999|      99.9|\n",
            "+---+---------+-------+-------------+----------+\n",
            "\n"
          ]
        }
      ]
    },
    {
      "cell_type": "code",
      "source": [
        "delta_instance.update(\n",
        "    condition=\"name='Sandeep'\",\n",
        "    set={\"Percentage\": \"90.8\"}\n",
        ")"
      ],
      "metadata": {
        "id": "orgFbBJpLrAj"
      },
      "execution_count": null,
      "outputs": []
    },
    {
      "cell_type": "code",
      "source": [
        "spark.sql('select * from delta_table').show()"
      ],
      "metadata": {
        "colab": {
          "base_uri": "https://localhost:8080/"
        },
        "id": "6pYzzWBdLq98",
        "outputId": "ad6b92e8-4c22-4e50-b2a5-9f004feaf181"
      },
      "execution_count": null,
      "outputs": [
        {
          "output_type": "stream",
          "name": "stdout",
          "text": [
            "+---+---------+-------+-------------+----------+\n",
            "| id|     name|Subject|MarksObtained|Percentage|\n",
            "+---+---------+-------+-------------+----------+\n",
            "|  3| Spandana|  Maths|          963|      96.3|\n",
            "|  4|  Pradeep|  Maths|          948|      94.8|\n",
            "|  7|Aashritha|Cooking|          954|      95.0|\n",
            "|  1|  Sandeep|  Maths|          907|      90.8|\n",
            "|  6|    Advik|  Games|          999|      99.9|\n",
            "+---+---------+-------+-------------+----------+\n",
            "\n"
          ]
        }
      ]
    },
    {
      "cell_type": "code",
      "source": [
        "delta_table = spark.read.format(\"delta\").load(\"/content/sample_data/delta_table\")"
      ],
      "metadata": {
        "id": "F2Kb0UzgiRNx"
      },
      "execution_count": null,
      "outputs": []
    },
    {
      "cell_type": "code",
      "source": [
        "from delta.tables import *\n",
        "from pyspark.sql.functions import *\n",
        "\n",
        "# Load the Delta table using DeltaTable\n",
        "delta_table = DeltaTable.forPath(spark, \"/content/sample_data/delta_table\")\n",
        "\n",
        "# Perform the update\n",
        "delta_table.update(\n",
        "    condition=col(\"name\")=='Sandeep',\n",
        "    set={\"Percentage\": \"90.7\"}\n",
        ")"
      ],
      "metadata": {
        "id": "4npDm7YjLq7d"
      },
      "execution_count": null,
      "outputs": []
    },
    {
      "cell_type": "code",
      "source": [
        "spark.sql('select * from delta_table').show()"
      ],
      "metadata": {
        "colab": {
          "base_uri": "https://localhost:8080/"
        },
        "id": "hfxDtmAYLp3F",
        "outputId": "bbfc2e28-0290-462a-fb61-a526fe1796f7"
      },
      "execution_count": null,
      "outputs": [
        {
          "output_type": "stream",
          "name": "stdout",
          "text": [
            "+---+---------+-------+-------------+----------+\n",
            "| id|     name|Subject|MarksObtained|Percentage|\n",
            "+---+---------+-------+-------------+----------+\n",
            "|  3| Spandana|  Maths|          963|      96.3|\n",
            "|  4|  Pradeep|  Maths|          948|      94.8|\n",
            "|  7|Aashritha|Cooking|          954|      95.0|\n",
            "|  1|  Sandeep|  Maths|          907|      90.7|\n",
            "|  6|    Advik|  Games|          999|      99.9|\n",
            "+---+---------+-------+-------------+----------+\n",
            "\n"
          ]
        }
      ]
    },
    {
      "cell_type": "markdown",
      "source": [
        "    Merge"
      ],
      "metadata": {
        "id": "VfnSWgSYr2jr"
      }
    },
    {
      "cell_type": "code",
      "source": [
        "from pyspark.sql.types import *\n",
        "from pyspark.sql.functions import *\n",
        "schema = StructType(\n",
        "    [\n",
        "        StructField(\"id\", IntegerType(), True),\n",
        "        StructField(\"name\", StringType(), True),\n",
        "        StructField(\"Subject\", StringType(), True),\n",
        "        StructField(\"MarksObtained\", IntegerType(), True),\n",
        "        StructField(\"Percentage\", FloatType(), True)\n",
        "    ])"
      ],
      "metadata": {
        "id": "hPhQJYbbr2IV"
      },
      "execution_count": null,
      "outputs": []
    },
    {
      "cell_type": "code",
      "source": [
        "data=[(1,'Aashritha','Fun',100,99.9)]\n",
        "df=spark.createDataFrame(data,schema)\n",
        "df.show()"
      ],
      "metadata": {
        "colab": {
          "base_uri": "https://localhost:8080/"
        },
        "id": "AhBvbFZzr2E6",
        "outputId": "d720a872-6f06-47a0-ecdf-a2a29d3e71f0"
      },
      "execution_count": null,
      "outputs": [
        {
          "output_type": "stream",
          "name": "stdout",
          "text": [
            "+---+---------+-------+-------------+----------+\n",
            "| id|     name|Subject|MarksObtained|Percentage|\n",
            "+---+---------+-------+-------------+----------+\n",
            "|  1|Aashritha|    Fun|          100|      99.9|\n",
            "+---+---------+-------+-------------+----------+\n",
            "\n"
          ]
        }
      ]
    },
    {
      "cell_type": "code",
      "source": [
        "from delta.tables import *\n",
        "from pyspark.sql.functions import *"
      ],
      "metadata": {
        "id": "QaeW5hQur2Cn"
      },
      "execution_count": null,
      "outputs": []
    },
    {
      "cell_type": "code",
      "source": [
        "df.write.format('delta').mode('append').save('content/sample_data/delta_table_merge')"
      ],
      "metadata": {
        "id": "Jiv0u-gA9gPb"
      },
      "execution_count": null,
      "outputs": []
    },
    {
      "cell_type": "code",
      "source": [
        "merge_read=spark.read.format('delta').load('content/sample_data/delta_table_merge')\n"
      ],
      "metadata": {
        "id": "29iZq8T_9-0e"
      },
      "execution_count": null,
      "outputs": []
    },
    {
      "cell_type": "code",
      "source": [
        "merge_read.show()"
      ],
      "metadata": {
        "colab": {
          "base_uri": "https://localhost:8080/"
        },
        "id": "7GH5pG0l-E1s",
        "outputId": "5e1b2e9b-adad-4833-e0a0-27d449093801"
      },
      "execution_count": null,
      "outputs": [
        {
          "output_type": "stream",
          "name": "stdout",
          "text": [
            "+---+---------+-------+-------------+----------+\n",
            "| id|     name|Subject|MarksObtained|Percentage|\n",
            "+---+---------+-------+-------------+----------+\n",
            "|  1|Aashritha|    Fun|          100|      99.9|\n",
            "+---+---------+-------+-------------+----------+\n",
            "\n"
          ]
        }
      ]
    },
    {
      "cell_type": "code",
      "source": [
        "new_data=[(1,'Aashritha','Fun',99,99.0),(2,'Advik','Games',97,97.0)]\n",
        "schema = StructType(\n",
        "    [\n",
        "        StructField(\"id\", IntegerType(), True),\n",
        "        StructField(\"name\", StringType(), True),\n",
        "        StructField(\"Subject\", StringType(), True),\n",
        "        StructField(\"MarksObtained\", IntegerType(), True),\n",
        "        StructField(\"Percentage\", FloatType(), True)\n",
        "    ])\n",
        "new_df=spark.createDataFrame(new_data,schema)"
      ],
      "metadata": {
        "id": "q4NJCidir1_9"
      },
      "execution_count": null,
      "outputs": []
    },
    {
      "cell_type": "code",
      "source": [
        "delta_df=DeltaTable.forPath(spark,'content/sample_data/delta_table_merge')"
      ],
      "metadata": {
        "id": "8CK5Jv3Ir19k"
      },
      "execution_count": null,
      "outputs": []
    },
    {
      "cell_type": "code",
      "source": [
        "delta_df.alias('target').merge(\n",
        "    new_df.alias('source'),\n",
        "    'target.id = source.id'\n",
        ").whenMatchedUpdate(set=\n",
        "                    {\n",
        "                        'id': 'source.id',\n",
        "                        'name': 'source.name',\n",
        "                        'Subject': 'source.Subject',\n",
        "                        'MarksObtained': 'source.MarksObtained',\n",
        "                        'Percentage': 'source.Percentage'\n",
        "                    }).whenNotMatchedInsert(values=\n",
        "                                            {\n",
        "                                                'id': 'source.id',\n",
        "                                                'name': 'source.name',\n",
        "                                                'Subject': 'source.Subject',\n",
        "                                                'MarksObtained': 'source.MarksObtained',\n",
        "                                                'Percentage': 'source.Percentage'\n",
        "                                            }).execute()"
      ],
      "metadata": {
        "id": "FPzvmkPgr17D"
      },
      "execution_count": null,
      "outputs": []
    },
    {
      "cell_type": "code",
      "source": [
        "merge_read=spark.read.format('delta').load('content/sample_data/delta_table_merge')"
      ],
      "metadata": {
        "id": "S1K1A8fgr14s"
      },
      "execution_count": null,
      "outputs": []
    },
    {
      "cell_type": "code",
      "source": [
        "merge_read.show()"
      ],
      "metadata": {
        "colab": {
          "base_uri": "https://localhost:8080/"
        },
        "id": "CRyjU-Kmr12D",
        "outputId": "235bdf86-91de-4884-e9d8-3d316eeb48e5"
      },
      "execution_count": null,
      "outputs": [
        {
          "output_type": "stream",
          "name": "stdout",
          "text": [
            "+---+---------+-------+-------------+----------+\n",
            "| id|     name|Subject|MarksObtained|Percentage|\n",
            "+---+---------+-------+-------------+----------+\n",
            "|  1|Aashritha|    Fun|           99|      99.0|\n",
            "|  2|    Advik|  Games|           97|      97.0|\n",
            "+---+---------+-------+-------------+----------+\n",
            "\n"
          ]
        }
      ]
    },
    {
      "cell_type": "code",
      "source": [
        "lastOperation=delta_df.history()"
      ],
      "metadata": {
        "id": "HxdID1Kkr1zl"
      },
      "execution_count": null,
      "outputs": []
    },
    {
      "cell_type": "code",
      "source": [
        "explode_df=lastOperation.select(lastOperation.operation,lastOperation.timestamp,explode(lastOperation.operationMetrics))\n",
        "explode_df_select=explode_df.select('operation','timestamp',explode_df.key,explode_df.value.cast('int'))\n",
        "explode_df_select.show()"
      ],
      "metadata": {
        "colab": {
          "base_uri": "https://localhost:8080/"
        },
        "id": "97keemBZLpxi",
        "outputId": "e7e3f685-2463-4b3d-f602-172c26cea30b"
      },
      "execution_count": null,
      "outputs": [
        {
          "output_type": "stream",
          "name": "stdout",
          "text": [
            "+---------+--------------------+--------------------+-----+\n",
            "|operation|           timestamp|                 key|value|\n",
            "+---------+--------------------+--------------------+-----+\n",
            "|    MERGE|2024-11-11 09:40:...| numTargetRowsCopied|    0|\n",
            "|    MERGE|2024-11-11 09:40:...|numTargetRowsDeleted|    0|\n",
            "|    MERGE|2024-11-11 09:40:...| numTargetFilesAdded|    1|\n",
            "|    MERGE|2024-11-11 09:40:...|     executionTimeMs| 3033|\n",
            "|    MERGE|2024-11-11 09:40:...|numTargetRowsInse...|    1|\n",
            "|    MERGE|2024-11-11 09:40:...|          scanTimeMs| 1908|\n",
            "|    MERGE|2024-11-11 09:40:...|numTargetRowsUpdated|    1|\n",
            "|    MERGE|2024-11-11 09:40:...|       numOutputRows|    2|\n",
            "|    MERGE|2024-11-11 09:40:...|numTargetChangeFi...|    0|\n",
            "|    MERGE|2024-11-11 09:40:...|       numSourceRows|    2|\n",
            "|    MERGE|2024-11-11 09:40:...|numTargetFilesRem...|    1|\n",
            "|    MERGE|2024-11-11 09:40:...|       rewriteTimeMs| 1119|\n",
            "|    WRITE|2024-11-11 09:40:...|            numFiles|    2|\n",
            "|    WRITE|2024-11-11 09:40:...|       numOutputRows|    1|\n",
            "|    WRITE|2024-11-11 09:40:...|      numOutputBytes| 2100|\n",
            "+---------+--------------------+--------------------+-----+\n",
            "\n"
          ]
        }
      ]
    },
    {
      "cell_type": "code",
      "source": [
        "pivot_df=explode_df_select.groupBy('operation').pivot('key').sum('value')\n",
        "pivot_df.show()"
      ],
      "metadata": {
        "colab": {
          "base_uri": "https://localhost:8080/"
        },
        "id": "iY2n8MExLpvD",
        "outputId": "025da87c-2d37-4e3c-8e4d-b787cfea8571"
      },
      "execution_count": null,
      "outputs": [
        {
          "output_type": "stream",
          "name": "stdout",
          "text": [
            "+---------+---------------+--------+--------------+-------------+-------------+-------------------------+-------------------+---------------------+-------------------+--------------------+---------------------+--------------------+-------------+----------+\n",
            "|operation|executionTimeMs|numFiles|numOutputBytes|numOutputRows|numSourceRows|numTargetChangeFilesAdded|numTargetFilesAdded|numTargetFilesRemoved|numTargetRowsCopied|numTargetRowsDeleted|numTargetRowsInserted|numTargetRowsUpdated|rewriteTimeMs|scanTimeMs|\n",
            "+---------+---------------+--------+--------------+-------------+-------------+-------------------------+-------------------+---------------------+-------------------+--------------------+---------------------+--------------------+-------------+----------+\n",
            "|    MERGE|           3033|    null|          null|            2|            2|                        0|                  1|                    1|                  0|                   0|                    1|                   1|         1119|      1908|\n",
            "|    WRITE|           null|       2|          2100|            1|         null|                     null|               null|                 null|               null|                null|                 null|                null|         null|      null|\n",
            "+---------+---------------+--------+--------------+-------------+-------------+-------------------------+-------------------+---------------------+-------------------+--------------------+---------------------+--------------------+-------------+----------+\n",
            "\n"
          ]
        }
      ]
    },
    {
      "cell_type": "code",
      "source": [
        "merge_table1=DeltaTable.forPath(spark,'content/sample_data/delta_table_merge')\n",
        "merge_table1.history()"
      ],
      "metadata": {
        "colab": {
          "base_uri": "https://localhost:8080/"
        },
        "id": "jAEBjuyA6suZ",
        "outputId": "a49a7651-b133-4a5c-9b26-2b61b6e54082"
      },
      "execution_count": null,
      "outputs": [
        {
          "output_type": "execute_result",
          "data": {
            "text/plain": [
              "DataFrame[version: bigint, timestamp: timestamp, userId: string, userName: string, operation: string, operationParameters: map<string,string>, job: struct<jobId:string,jobName:string,runId:string,jobOwnerId:string,triggerType:string>, notebook: struct<notebookId:string>, clusterId: string, readVersion: bigint, isolationLevel: string, isBlindAppend: boolean, operationMetrics: map<string,string>, userMetadata: string, engineInfo: string]"
            ]
          },
          "metadata": {},
          "execution_count": 49
        }
      ]
    },
    {
      "cell_type": "code",
      "source": [
        "df=spark.read.format('delta').option('versionAsOf',2).load('/content/sample_data/delta_table')"
      ],
      "metadata": {
        "id": "A3yhcEkHEJui"
      },
      "execution_count": null,
      "outputs": []
    },
    {
      "cell_type": "code",
      "source": [
        "df.show()"
      ],
      "metadata": {
        "colab": {
          "base_uri": "https://localhost:8080/"
        },
        "id": "5My1eo4WEJo2",
        "outputId": "7829ec44-2a19-48c5-c220-556e2457a4a4"
      },
      "execution_count": null,
      "outputs": [
        {
          "output_type": "stream",
          "name": "stdout",
          "text": [
            "+---+--------+-------+-------------+----------+\n",
            "| id|    name|Subject|MarksObtained|Percentage|\n",
            "+---+--------+-------+-------------+----------+\n",
            "|  3|Spandana|  Maths|          963|      96.3|\n",
            "|  4| Pradeep|  Maths|          948|      94.8|\n",
            "|  1| Sandeep|  Maths|          907|      90.7|\n",
            "|  2|   Rahul|  Maths|          924|      92.4|\n",
            "+---+--------+-------+-------------+----------+\n",
            "\n"
          ]
        }
      ]
    },
    {
      "cell_type": "code",
      "source": [
        "spark.sql('select * from delta_table ').show()"
      ],
      "metadata": {
        "colab": {
          "base_uri": "https://localhost:8080/"
        },
        "id": "DoMbKCeGEJml",
        "outputId": "78a08a59-25ec-405a-f434-4c44365fdb50"
      },
      "execution_count": null,
      "outputs": [
        {
          "output_type": "stream",
          "name": "stdout",
          "text": [
            "+---+---------+-------+-------------+----------+\n",
            "| id|     name|Subject|MarksObtained|Percentage|\n",
            "+---+---------+-------+-------------+----------+\n",
            "|  3| Spandana|  Maths|          963|      96.3|\n",
            "|  4|  Pradeep|  Maths|          948|      94.8|\n",
            "|  7|Aashritha|Cooking|          954|      95.0|\n",
            "|  1|  Sandeep|  Maths|          907|      90.7|\n",
            "|  6|    Advik|  Games|          999|      99.9|\n",
            "+---+---------+-------+-------------+----------+\n",
            "\n"
          ]
        }
      ]
    },
    {
      "cell_type": "code",
      "source": [
        "data=[(1,1),(2,2),(3,3),(4,3)]\n",
        "schema = StructType(\n",
        "    [\n",
        "        StructField(\"id\", IntegerType(), True),\n",
        "        StructField(\"customerID\", IntegerType(), True),\n",
        "\n",
        "    ])\n",
        "\n",
        "df=spark.createDataFrame(\n",
        "    data,schema)\n",
        "df.show()"
      ],
      "metadata": {
        "colab": {
          "base_uri": "https://localhost:8080/"
        },
        "id": "MZfjgqMEEJkN",
        "outputId": "8a094230-c502-4995-d7a7-ec8156965498"
      },
      "execution_count": null,
      "outputs": [
        {
          "output_type": "stream",
          "name": "stdout",
          "text": [
            "+---+----------+\n",
            "| id|customerID|\n",
            "+---+----------+\n",
            "|  1|         1|\n",
            "|  2|         2|\n",
            "|  3|         3|\n",
            "|  4|         3|\n",
            "+---+----------+\n",
            "\n"
          ]
        }
      ]
    },
    {
      "cell_type": "code",
      "source": [
        "df.write.format('delta').mode('overwrite').save('content/sample_data/order')"
      ],
      "metadata": {
        "id": "zIAR_CCIEJh5"
      },
      "execution_count": null,
      "outputs": []
    },
    {
      "cell_type": "code",
      "source": [
        "employee = spark.read.format(\"delta\").load(\"/content/content/sample_data/order\")"
      ],
      "metadata": {
        "id": "WxVIzI0uEJfa"
      },
      "execution_count": null,
      "outputs": []
    },
    {
      "cell_type": "code",
      "source": [
        "# Register the DataFrame as a temporary view\n",
        "employee.createOrReplaceTempView(\"employee\")\n",
        "\n",
        "# Now you can query the data using SQL\n",
        "spark.sql('select * from employee').show()"
      ],
      "metadata": {
        "colab": {
          "base_uri": "https://localhost:8080/"
        },
        "id": "K14-p34sEJak",
        "outputId": "9df28133-960c-4257-f9de-159fbea55ed3"
      },
      "execution_count": null,
      "outputs": [
        {
          "output_type": "stream",
          "name": "stdout",
          "text": [
            "+---+----------+\n",
            "| id|customerID|\n",
            "+---+----------+\n",
            "|  3|         3|\n",
            "|  4|         3|\n",
            "|  1|         1|\n",
            "|  2|         2|\n",
            "+---+----------+\n",
            "\n"
          ]
        }
      ]
    },
    {
      "cell_type": "code",
      "source": [
        "spark.sql('select customerID,count(1) noOfOrder from employee group by customerID order by noOfOrder desc limit 1').show()"
      ],
      "metadata": {
        "colab": {
          "base_uri": "https://localhost:8080/"
        },
        "id": "Ax8-BPpJEJYI",
        "outputId": "b1ed27f8-e954-4f10-f450-faf4560e63a3"
      },
      "execution_count": null,
      "outputs": [
        {
          "output_type": "stream",
          "name": "stdout",
          "text": [
            "+----------+---------+\n",
            "|customerID|noOfOrder|\n",
            "+----------+---------+\n",
            "|         3|        2|\n",
            "+----------+---------+\n",
            "\n"
          ]
        }
      ]
    },
    {
      "cell_type": "code",
      "source": [
        "df=DeltaTable.forPath(spark,'/content/sample_data/delta_table')"
      ],
      "metadata": {
        "id": "TGjuql-UEJV0"
      },
      "execution_count": null,
      "outputs": []
    },
    {
      "cell_type": "code",
      "source": [
        "df.history().show()"
      ],
      "metadata": {
        "colab": {
          "base_uri": "https://localhost:8080/"
        },
        "id": "R73Zx-rjn5Rb",
        "outputId": "a83b5da7-9e65-4400-ad27-e8cc39ea28c4"
      },
      "execution_count": null,
      "outputs": [
        {
          "output_type": "stream",
          "name": "stdout",
          "text": [
            "+-------+--------------------+------+--------+--------------------+--------------------+----+--------+---------+-----------+--------------+-------------+--------------------+------------+--------------------+\n",
            "|version|           timestamp|userId|userName|           operation| operationParameters| job|notebook|clusterId|readVersion|isolationLevel|isBlindAppend|    operationMetrics|userMetadata|          engineInfo|\n",
            "+-------+--------------------+------+--------+--------------------+--------------------+----+--------+---------+-----------+--------------+-------------+--------------------+------------+--------------------+\n",
            "|     10|2024-11-11 09:50:...|  null|    null|             RESTORE|{version -> 8, ti...|null|    null|     null|          9|  Serializable|        false|{numRestoredFiles...|        null|Apache-Spark/3.2....|\n",
            "|      9|2024-11-11 09:40:...|  null|    null|              UPDATE|{predicate -> (na...|null|    null|     null|          8|  Serializable|        false|{numRemovedFiles ...|        null|Apache-Spark/3.2....|\n",
            "|      8|2024-11-11 09:39:...|  null|    null|              UPDATE|{predicate -> (na...|null|    null|     null|          7|  Serializable|        false|{numRemovedFiles ...|        null|Apache-Spark/3.2....|\n",
            "|      7|2024-11-11 09:39:...|  null|    null|              UPDATE|{predicate -> (Su...|null|    null|     null|          6|  Serializable|        false|{numRemovedFiles ...|        null|Apache-Spark/3.2....|\n",
            "|      6|2024-11-11 09:39:...|  null|    null|              DELETE|{predicate -> [\"(...|null|    null|     null|          5|  Serializable|        false|{numRemovedFiles ...|        null|Apache-Spark/3.2....|\n",
            "|      5|2024-11-11 09:39:...|  null|    null|               WRITE|{mode -> Append, ...|null|    null|     null|          4|  Serializable|         true|{numFiles -> 2, n...|        null|Apache-Spark/3.2....|\n",
            "|      4|2024-11-11 09:39:...|  null|    null|               WRITE|{mode -> Append, ...|null|    null|     null|          3|  Serializable|         true|{numFiles -> 2, n...|        null|Apache-Spark/3.2....|\n",
            "|      3|2024-11-11 09:39:...|  null|    null|              DELETE|{predicate -> [\"(...|null|    null|     null|          2|  Serializable|        false|{numRemovedFiles ...|        null|Apache-Spark/3.2....|\n",
            "|      2|2024-11-11 09:39:...|  null|    null|               WRITE|{mode -> Append, ...|null|    null|     null|          1|  Serializable|         true|{numFiles -> 2, n...|        null|Apache-Spark/3.2....|\n",
            "|      1|2024-11-11 09:38:...|  null|    null|               WRITE|{mode -> Append, ...|null|    null|     null|          0|  Serializable|         true|{numFiles -> 2, n...|        null|Apache-Spark/3.2....|\n",
            "|      0|2024-11-11 09:38:...|  null|    null|CREATE OR REPLACE...|{isManaged -> fal...|null|    null|     null|       null|  Serializable|         true|                  {}|        null|Apache-Spark/3.2....|\n",
            "+-------+--------------------+------+--------+--------------------+--------------------+----+--------+---------+-----------+--------------+-------------+--------------------+------------+--------------------+\n",
            "\n"
          ]
        }
      ]
    },
    {
      "cell_type": "code",
      "source": [
        "df.restoreToVersion(8)"
      ],
      "metadata": {
        "colab": {
          "base_uri": "https://localhost:8080/"
        },
        "id": "GEOU_RYYn8j8",
        "outputId": "f61c2e7d-4c92-40ca-bced-38d344483683"
      },
      "execution_count": null,
      "outputs": [
        {
          "output_type": "execute_result",
          "data": {
            "text/plain": [
              "DataFrame[table_size_after_restore: bigint, num_of_files_after_restore: bigint, num_removed_files: bigint, num_restored_files: bigint, removed_files_size: bigint, restored_files_size: bigint]"
            ]
          },
          "metadata": {},
          "execution_count": 62
        }
      ]
    },
    {
      "cell_type": "code",
      "source": [
        "spark.sql('select * from delta_table').show()"
      ],
      "metadata": {
        "colab": {
          "base_uri": "https://localhost:8080/"
        },
        "id": "BsgnJBhSoYMG",
        "outputId": "cd7269a1-0833-4679-e088-896f16c61971"
      },
      "execution_count": null,
      "outputs": [
        {
          "output_type": "stream",
          "name": "stdout",
          "text": [
            "+---+---------+-------+-------------+----------+\n",
            "| id|     name|Subject|MarksObtained|Percentage|\n",
            "+---+---------+-------+-------------+----------+\n",
            "|  3| Spandana|  Maths|          963|      96.3|\n",
            "|  4|  Pradeep|  Maths|          948|      94.8|\n",
            "|  7|Aashritha|Cooking|          954|      95.0|\n",
            "|  1|  Sandeep|  Maths|          907|      90.8|\n",
            "|  6|    Advik|  Games|          999|      99.9|\n",
            "+---+---------+-------+-------------+----------+\n",
            "\n"
          ]
        }
      ]
    },
    {
      "cell_type": "code",
      "source": [],
      "metadata": {
        "id": "qH2h-cz5od8a"
      },
      "execution_count": null,
      "outputs": []
    }
  ]
}