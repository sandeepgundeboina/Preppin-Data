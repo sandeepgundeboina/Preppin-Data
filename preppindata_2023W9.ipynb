{
  "nbformat": 4,
  "nbformat_minor": 0,
  "metadata": {
    "colab": {
      "provenance": []
    },
    "kernelspec": {
      "name": "python3",
      "display_name": "Python 3"
    },
    "language_info": {
      "name": "python"
    }
  },
  "cells": [
    {
      "cell_type": "code",
      "execution_count": 1,
      "metadata": {
        "id": "zJFOQEe0E-_7"
      },
      "outputs": [],
      "source": [
        "import pandas as pd"
      ]
    },
    {
      "cell_type": "code",
      "source": [
        "acc=pd.read_csv('/content/drive/MyDrive/Abc/preppin_w9/Account Information.csv')\n",
        "tr_dt=pd.read_csv('/content/drive/MyDrive/Abc/preppin_w9/Transaction Detail.csv')\n",
        "tr_pt=pd.read_csv('/content/drive/MyDrive/Abc/preppin_w9/Transaction Path.csv')"
      ],
      "metadata": {
        "id": "bNrDmINiFJrN"
      },
      "execution_count": 2,
      "outputs": []
    },
    {
      "cell_type": "code",
      "source": [
        "tr_dt=tr_dt[tr_dt['Cancelled?']=='N']"
      ],
      "metadata": {
        "id": "XcRi68kSFqOG"
      },
      "execution_count": 3,
      "outputs": []
    },
    {
      "cell_type": "code",
      "source": [
        "tr_pt=tr_pt.rename(columns={'Account_To':'Account To','Account_From':'Account From'})"
      ],
      "metadata": {
        "id": "GN0ZcxZgUm0m"
      },
      "execution_count": 4,
      "outputs": []
    },
    {
      "cell_type": "code",
      "source": [
        "tr=pd.merge(tr_pt,tr_dt,how='inner',on='Transaction ID')"
      ],
      "metadata": {
        "id": "7mdcfSCGUzqi"
      },
      "execution_count": 5,
      "outputs": []
    },
    {
      "cell_type": "code",
      "source": [
        "tr_out=tr[['Account From','Transaction Date','Value']]\n",
        "tr_out['Value']=-(tr_out['Value'])\n",
        "tr_inc=tr[['Account To','Transaction Date','Value']]\n",
        "tr_out=tr_out.rename(columns={'Account From':'Account Number','Transaction Date':'Balance Date'})\n",
        "tr_inc=tr_inc.rename(columns={'Account To':'Account Number','Transaction Date':'Balance Date'})"
      ],
      "metadata": {
        "id": "cKZO3XpAV5Qi"
      },
      "execution_count": null,
      "outputs": []
    },
    {
      "cell_type": "code",
      "source": [
        "acc=acc[['Account Number','Balance Date','Balance']]\n",
        "acc=acc.rename(columns={'Balance':'Value'})"
      ],
      "metadata": {
        "id": "f8ogDig9Wcdg"
      },
      "execution_count": 7,
      "outputs": []
    },
    {
      "cell_type": "code",
      "source": [
        "df=pd.concat([tr_inc,tr_out,acc]).reset_index()\n",
        "df=df.drop(['index'],axis=1)\n",
        "df=df.sort_values(['Account Number','Balance Date']).reset_index().drop('index',axis=1)"
      ],
      "metadata": {
        "id": "NRwsUoZhYnvt"
      },
      "execution_count": 8,
      "outputs": []
    },
    {
      "cell_type": "code",
      "source": [
        "df['Balance']=df.groupby(['Account Number'])['Value'].cumsum()\n",
        "df"
      ],
      "metadata": {
        "colab": {
          "base_uri": "https://localhost:8080/",
          "height": 424
        },
        "id": "Vu4TGa8AZ0Rn",
        "outputId": "6067345a-b930-47b7-88b3-a334092036fa"
      },
      "execution_count": 9,
      "outputs": [
        {
          "output_type": "execute_result",
          "data": {
            "text/plain": [
              "       Account Number Balance Date    Value  Balance\n",
              "0            10005367   2023-01-31   728.25   728.25\n",
              "1            10005367   2023-02-02 -1097.60  -369.35\n",
              "2            10005367   2023-02-04   144.75  -224.60\n",
              "3            10005367   2023-02-04   -67.01  -291.61\n",
              "4            10005367   2023-02-05  -108.26  -399.87\n",
              "...               ...          ...      ...      ...\n",
              "20373        99937043   2023-02-05    52.36   970.18\n",
              "20374        99937043   2023-02-06   -92.42   877.76\n",
              "20375        99937043   2023-02-09  -122.91   754.85\n",
              "20376        99937043   2023-02-11  -125.33   629.52\n",
              "20377        99937043   2023-02-13    75.16   704.68\n",
              "\n",
              "[20378 rows x 4 columns]"
            ],
            "text/html": [
              "\n",
              "  <div id=\"df-9d7d23a2-528f-4a9f-a087-cf75f9c830f0\" class=\"colab-df-container\">\n",
              "    <div>\n",
              "<style scoped>\n",
              "    .dataframe tbody tr th:only-of-type {\n",
              "        vertical-align: middle;\n",
              "    }\n",
              "\n",
              "    .dataframe tbody tr th {\n",
              "        vertical-align: top;\n",
              "    }\n",
              "\n",
              "    .dataframe thead th {\n",
              "        text-align: right;\n",
              "    }\n",
              "</style>\n",
              "<table border=\"1\" class=\"dataframe\">\n",
              "  <thead>\n",
              "    <tr style=\"text-align: right;\">\n",
              "      <th></th>\n",
              "      <th>Account Number</th>\n",
              "      <th>Balance Date</th>\n",
              "      <th>Value</th>\n",
              "      <th>Balance</th>\n",
              "    </tr>\n",
              "  </thead>\n",
              "  <tbody>\n",
              "    <tr>\n",
              "      <th>0</th>\n",
              "      <td>10005367</td>\n",
              "      <td>2023-01-31</td>\n",
              "      <td>728.25</td>\n",
              "      <td>728.25</td>\n",
              "    </tr>\n",
              "    <tr>\n",
              "      <th>1</th>\n",
              "      <td>10005367</td>\n",
              "      <td>2023-02-02</td>\n",
              "      <td>-1097.60</td>\n",
              "      <td>-369.35</td>\n",
              "    </tr>\n",
              "    <tr>\n",
              "      <th>2</th>\n",
              "      <td>10005367</td>\n",
              "      <td>2023-02-04</td>\n",
              "      <td>144.75</td>\n",
              "      <td>-224.60</td>\n",
              "    </tr>\n",
              "    <tr>\n",
              "      <th>3</th>\n",
              "      <td>10005367</td>\n",
              "      <td>2023-02-04</td>\n",
              "      <td>-67.01</td>\n",
              "      <td>-291.61</td>\n",
              "    </tr>\n",
              "    <tr>\n",
              "      <th>4</th>\n",
              "      <td>10005367</td>\n",
              "      <td>2023-02-05</td>\n",
              "      <td>-108.26</td>\n",
              "      <td>-399.87</td>\n",
              "    </tr>\n",
              "    <tr>\n",
              "      <th>...</th>\n",
              "      <td>...</td>\n",
              "      <td>...</td>\n",
              "      <td>...</td>\n",
              "      <td>...</td>\n",
              "    </tr>\n",
              "    <tr>\n",
              "      <th>20373</th>\n",
              "      <td>99937043</td>\n",
              "      <td>2023-02-05</td>\n",
              "      <td>52.36</td>\n",
              "      <td>970.18</td>\n",
              "    </tr>\n",
              "    <tr>\n",
              "      <th>20374</th>\n",
              "      <td>99937043</td>\n",
              "      <td>2023-02-06</td>\n",
              "      <td>-92.42</td>\n",
              "      <td>877.76</td>\n",
              "    </tr>\n",
              "    <tr>\n",
              "      <th>20375</th>\n",
              "      <td>99937043</td>\n",
              "      <td>2023-02-09</td>\n",
              "      <td>-122.91</td>\n",
              "      <td>754.85</td>\n",
              "    </tr>\n",
              "    <tr>\n",
              "      <th>20376</th>\n",
              "      <td>99937043</td>\n",
              "      <td>2023-02-11</td>\n",
              "      <td>-125.33</td>\n",
              "      <td>629.52</td>\n",
              "    </tr>\n",
              "    <tr>\n",
              "      <th>20377</th>\n",
              "      <td>99937043</td>\n",
              "      <td>2023-02-13</td>\n",
              "      <td>75.16</td>\n",
              "      <td>704.68</td>\n",
              "    </tr>\n",
              "  </tbody>\n",
              "</table>\n",
              "<p>20378 rows × 4 columns</p>\n",
              "</div>\n",
              "    <div class=\"colab-df-buttons\">\n",
              "\n",
              "  <div class=\"colab-df-container\">\n",
              "    <button class=\"colab-df-convert\" onclick=\"convertToInteractive('df-9d7d23a2-528f-4a9f-a087-cf75f9c830f0')\"\n",
              "            title=\"Convert this dataframe to an interactive table.\"\n",
              "            style=\"display:none;\">\n",
              "\n",
              "  <svg xmlns=\"http://www.w3.org/2000/svg\" height=\"24px\" viewBox=\"0 -960 960 960\">\n",
              "    <path d=\"M120-120v-720h720v720H120Zm60-500h600v-160H180v160Zm220 220h160v-160H400v160Zm0 220h160v-160H400v160ZM180-400h160v-160H180v160Zm440 0h160v-160H620v160ZM180-180h160v-160H180v160Zm440 0h160v-160H620v160Z\"/>\n",
              "  </svg>\n",
              "    </button>\n",
              "\n",
              "  <style>\n",
              "    .colab-df-container {\n",
              "      display:flex;\n",
              "      gap: 12px;\n",
              "    }\n",
              "\n",
              "    .colab-df-convert {\n",
              "      background-color: #E8F0FE;\n",
              "      border: none;\n",
              "      border-radius: 50%;\n",
              "      cursor: pointer;\n",
              "      display: none;\n",
              "      fill: #1967D2;\n",
              "      height: 32px;\n",
              "      padding: 0 0 0 0;\n",
              "      width: 32px;\n",
              "    }\n",
              "\n",
              "    .colab-df-convert:hover {\n",
              "      background-color: #E2EBFA;\n",
              "      box-shadow: 0px 1px 2px rgba(60, 64, 67, 0.3), 0px 1px 3px 1px rgba(60, 64, 67, 0.15);\n",
              "      fill: #174EA6;\n",
              "    }\n",
              "\n",
              "    .colab-df-buttons div {\n",
              "      margin-bottom: 4px;\n",
              "    }\n",
              "\n",
              "    [theme=dark] .colab-df-convert {\n",
              "      background-color: #3B4455;\n",
              "      fill: #D2E3FC;\n",
              "    }\n",
              "\n",
              "    [theme=dark] .colab-df-convert:hover {\n",
              "      background-color: #434B5C;\n",
              "      box-shadow: 0px 1px 3px 1px rgba(0, 0, 0, 0.15);\n",
              "      filter: drop-shadow(0px 1px 2px rgba(0, 0, 0, 0.3));\n",
              "      fill: #FFFFFF;\n",
              "    }\n",
              "  </style>\n",
              "\n",
              "    <script>\n",
              "      const buttonEl =\n",
              "        document.querySelector('#df-9d7d23a2-528f-4a9f-a087-cf75f9c830f0 button.colab-df-convert');\n",
              "      buttonEl.style.display =\n",
              "        google.colab.kernel.accessAllowed ? 'block' : 'none';\n",
              "\n",
              "      async function convertToInteractive(key) {\n",
              "        const element = document.querySelector('#df-9d7d23a2-528f-4a9f-a087-cf75f9c830f0');\n",
              "        const dataTable =\n",
              "          await google.colab.kernel.invokeFunction('convertToInteractive',\n",
              "                                                    [key], {});\n",
              "        if (!dataTable) return;\n",
              "\n",
              "        const docLinkHtml = 'Like what you see? Visit the ' +\n",
              "          '<a target=\"_blank\" href=https://colab.research.google.com/notebooks/data_table.ipynb>data table notebook</a>'\n",
              "          + ' to learn more about interactive tables.';\n",
              "        element.innerHTML = '';\n",
              "        dataTable['output_type'] = 'display_data';\n",
              "        await google.colab.output.renderOutput(dataTable, element);\n",
              "        const docLink = document.createElement('div');\n",
              "        docLink.innerHTML = docLinkHtml;\n",
              "        element.appendChild(docLink);\n",
              "      }\n",
              "    </script>\n",
              "  </div>\n",
              "\n",
              "\n",
              "<div id=\"df-2e9b9ba6-2656-4b7e-8e54-bb31f976eb7b\">\n",
              "  <button class=\"colab-df-quickchart\" onclick=\"quickchart('df-2e9b9ba6-2656-4b7e-8e54-bb31f976eb7b')\"\n",
              "            title=\"Suggest charts.\"\n",
              "            style=\"display:none;\">\n",
              "\n",
              "<svg xmlns=\"http://www.w3.org/2000/svg\" height=\"24px\"viewBox=\"0 0 24 24\"\n",
              "     width=\"24px\">\n",
              "    <g>\n",
              "        <path d=\"M19 3H5c-1.1 0-2 .9-2 2v14c0 1.1.9 2 2 2h14c1.1 0 2-.9 2-2V5c0-1.1-.9-2-2-2zM9 17H7v-7h2v7zm4 0h-2V7h2v10zm4 0h-2v-4h2v4z\"/>\n",
              "    </g>\n",
              "</svg>\n",
              "  </button>\n",
              "\n",
              "<style>\n",
              "  .colab-df-quickchart {\n",
              "    background-color: #E8F0FE;\n",
              "    border: none;\n",
              "    border-radius: 50%;\n",
              "    cursor: pointer;\n",
              "    display: none;\n",
              "    fill: #1967D2;\n",
              "    height: 32px;\n",
              "    padding: 0 0 0 0;\n",
              "    width: 32px;\n",
              "  }\n",
              "\n",
              "  .colab-df-quickchart:hover {\n",
              "    background-color: #E2EBFA;\n",
              "    box-shadow: 0px 1px 2px rgba(60, 64, 67, 0.3), 0px 1px 3px 1px rgba(60, 64, 67, 0.15);\n",
              "    fill: #174EA6;\n",
              "  }\n",
              "\n",
              "  [theme=dark] .colab-df-quickchart {\n",
              "    background-color: #3B4455;\n",
              "    fill: #D2E3FC;\n",
              "  }\n",
              "\n",
              "  [theme=dark] .colab-df-quickchart:hover {\n",
              "    background-color: #434B5C;\n",
              "    box-shadow: 0px 1px 3px 1px rgba(0, 0, 0, 0.15);\n",
              "    filter: drop-shadow(0px 1px 2px rgba(0, 0, 0, 0.3));\n",
              "    fill: #FFFFFF;\n",
              "  }\n",
              "</style>\n",
              "\n",
              "  <script>\n",
              "    async function quickchart(key) {\n",
              "      const charts = await google.colab.kernel.invokeFunction(\n",
              "          'suggestCharts', [key], {});\n",
              "    }\n",
              "    (() => {\n",
              "      let quickchartButtonEl =\n",
              "        document.querySelector('#df-2e9b9ba6-2656-4b7e-8e54-bb31f976eb7b button');\n",
              "      quickchartButtonEl.style.display =\n",
              "        google.colab.kernel.accessAllowed ? 'block' : 'none';\n",
              "    })();\n",
              "  </script>\n",
              "</div>\n",
              "    </div>\n",
              "  </div>\n"
            ]
          },
          "metadata": {},
          "execution_count": 9
        }
      ]
    },
    {
      "cell_type": "markdown",
      "source": [
        "##### ***End Of Code***"
      ],
      "metadata": {
        "id": "kytC54grGANG"
      }
    }
  ]
}