{
 "cells": [
  {
   "cell_type": "code",
   "execution_count": 1,
   "metadata": {},
   "outputs": [],
   "source": [
    "import pandas as pd\n",
    "import numpy as np\n",
    "import datetime as dt"
   ]
  },
  {
   "cell_type": "code",
   "execution_count": 2,
   "metadata": {},
   "outputs": [],
   "source": [
    "e=pd.read_csv('prepp2.csv',index_col=False)"
   ]
  },
  {
   "cell_type": "code",
   "execution_count": 3,
   "metadata": {},
   "outputs": [],
   "source": [
    "d=pd.read_csv('prepp4.csv',index_col=False)"
   ]
  },
  {
   "cell_type": "code",
   "execution_count": 4,
   "metadata": {},
   "outputs": [],
   "source": [
    "df=pd.merge(d,e,on=e['id'])"
   ]
  },
  {
   "cell_type": "code",
   "execution_count": 5,
   "metadata": {},
   "outputs": [],
   "source": [
    "df=df.drop(['key_0','id','pupil first name', 'pupil last name', 'gender', 'Date of Birth',\n",
    "       'Parental Contact Name_1', 'Parental Contact Name_2','Preferred Contact Employer', 'Parental Contact'],axis=1)"
   ]
  },
  {
   "cell_type": "code",
   "execution_count": 6,
   "metadata": {},
   "outputs": [],
   "source": [
    "tra=pd.melt(df,id_vars=['Student ID'],value_name='mtra',var_name='weekday')"
   ]
  },
  {
   "cell_type": "code",
   "execution_count": 7,
   "metadata": {},
   "outputs": [],
   "source": [
    "change={'car':'^Ca.*','bicycle':'^B.*','walk':'W.*','scooter':'^Sc.*','helicopter':'^He.*'}"
   ]
  },
  {
   "cell_type": "code",
   "execution_count": 8,
   "metadata": {},
   "outputs": [],
   "source": [
    "tra['mtra']=tra['mtra'].replace(list(change.values()),list(change.keys()),regex=True)"
   ]
  },
  {
   "cell_type": "code",
   "execution_count": 9,
   "metadata": {},
   "outputs": [],
   "source": [
    "f=pd.DataFrame(tra.groupby(['mtra','weekday'],as_index=False)['Student ID'].count())\n",
    "f.columns=['Means of Travel','WeekDay','No of Trips']"
   ]
  },
  {
   "cell_type": "code",
   "execution_count": 10,
   "metadata": {},
   "outputs": [],
   "source": [
    "f['Sustainable?']=f['Means of Travel'].apply(lambda x:'Not Sustainable' if (x=='Aeroplane')|(x=='Van')|(x=='car')|\n",
    "                                             (x=='scooter')|(x=='helicopter') else 'Sustainable')"
   ]
  },
  {
   "cell_type": "code",
   "execution_count": 11,
   "metadata": {},
   "outputs": [],
   "source": [
    "f['Trips per Day']=f['No of Trips'].groupby(f['WeekDay']).transform('sum')"
   ]
  },
  {
   "cell_type": "code",
   "execution_count": 12,
   "metadata": {},
   "outputs": [],
   "source": [
    "f['% of Trips per Day']=(f['No of Trips']/f['Trips per Day']).round(2)"
   ]
  },
  {
   "cell_type": "code",
   "execution_count": 13,
   "metadata": {},
   "outputs": [
    {
     "data": {
      "text/html": [
       "<div>\n",
       "<style scoped>\n",
       "    .dataframe tbody tr th:only-of-type {\n",
       "        vertical-align: middle;\n",
       "    }\n",
       "\n",
       "    .dataframe tbody tr th {\n",
       "        vertical-align: top;\n",
       "    }\n",
       "\n",
       "    .dataframe thead th {\n",
       "        text-align: right;\n",
       "    }\n",
       "</style>\n",
       "<table border=\"1\" class=\"dataframe\">\n",
       "  <thead>\n",
       "    <tr style=\"text-align: right;\">\n",
       "      <th></th>\n",
       "      <th>Means of Travel</th>\n",
       "      <th>WeekDay</th>\n",
       "      <th>No of Trips</th>\n",
       "      <th>Sustainable?</th>\n",
       "      <th>Trips per Day</th>\n",
       "      <th>% of Trips per Day</th>\n",
       "    </tr>\n",
       "  </thead>\n",
       "  <tbody>\n",
       "    <tr>\n",
       "      <th>0</th>\n",
       "      <td>Aeroplane</td>\n",
       "      <td>F</td>\n",
       "      <td>9</td>\n",
       "      <td>Not Sustainable</td>\n",
       "      <td>1000</td>\n",
       "      <td>0.01</td>\n",
       "    </tr>\n",
       "    <tr>\n",
       "      <th>1</th>\n",
       "      <td>Aeroplane</td>\n",
       "      <td>M</td>\n",
       "      <td>9</td>\n",
       "      <td>Not Sustainable</td>\n",
       "      <td>1000</td>\n",
       "      <td>0.01</td>\n",
       "    </tr>\n",
       "    <tr>\n",
       "      <th>2</th>\n",
       "      <td>Aeroplane</td>\n",
       "      <td>Th</td>\n",
       "      <td>9</td>\n",
       "      <td>Not Sustainable</td>\n",
       "      <td>1000</td>\n",
       "      <td>0.01</td>\n",
       "    </tr>\n",
       "    <tr>\n",
       "      <th>3</th>\n",
       "      <td>Aeroplane</td>\n",
       "      <td>Tu</td>\n",
       "      <td>9</td>\n",
       "      <td>Not Sustainable</td>\n",
       "      <td>1000</td>\n",
       "      <td>0.01</td>\n",
       "    </tr>\n",
       "    <tr>\n",
       "      <th>4</th>\n",
       "      <td>Aeroplane</td>\n",
       "      <td>W</td>\n",
       "      <td>9</td>\n",
       "      <td>Not Sustainable</td>\n",
       "      <td>1000</td>\n",
       "      <td>0.01</td>\n",
       "    </tr>\n",
       "    <tr>\n",
       "      <th>5</th>\n",
       "      <td>Dad's Shoulders</td>\n",
       "      <td>Th</td>\n",
       "      <td>9</td>\n",
       "      <td>Sustainable</td>\n",
       "      <td>1000</td>\n",
       "      <td>0.01</td>\n",
       "    </tr>\n",
       "    <tr>\n",
       "      <th>6</th>\n",
       "      <td>Dad's Shoulders</td>\n",
       "      <td>Tu</td>\n",
       "      <td>15</td>\n",
       "      <td>Sustainable</td>\n",
       "      <td>1000</td>\n",
       "      <td>0.02</td>\n",
       "    </tr>\n",
       "    <tr>\n",
       "      <th>7</th>\n",
       "      <td>Hopped</td>\n",
       "      <td>M</td>\n",
       "      <td>3</td>\n",
       "      <td>Sustainable</td>\n",
       "      <td>1000</td>\n",
       "      <td>0.00</td>\n",
       "    </tr>\n",
       "    <tr>\n",
       "      <th>8</th>\n",
       "      <td>Jumped</td>\n",
       "      <td>W</td>\n",
       "      <td>3</td>\n",
       "      <td>Sustainable</td>\n",
       "      <td>1000</td>\n",
       "      <td>0.00</td>\n",
       "    </tr>\n",
       "    <tr>\n",
       "      <th>9</th>\n",
       "      <td>Mum's Shoulders</td>\n",
       "      <td>F</td>\n",
       "      <td>24</td>\n",
       "      <td>Sustainable</td>\n",
       "      <td>1000</td>\n",
       "      <td>0.02</td>\n",
       "    </tr>\n",
       "  </tbody>\n",
       "</table>\n",
       "</div>"
      ],
      "text/plain": [
       "   Means of Travel WeekDay  No of Trips     Sustainable?  Trips per Day  \\\n",
       "0        Aeroplane       F            9  Not Sustainable           1000   \n",
       "1        Aeroplane       M            9  Not Sustainable           1000   \n",
       "2        Aeroplane      Th            9  Not Sustainable           1000   \n",
       "3        Aeroplane      Tu            9  Not Sustainable           1000   \n",
       "4        Aeroplane       W            9  Not Sustainable           1000   \n",
       "5  Dad's Shoulders      Th            9      Sustainable           1000   \n",
       "6  Dad's Shoulders      Tu           15      Sustainable           1000   \n",
       "7           Hopped       M            3      Sustainable           1000   \n",
       "8           Jumped       W            3      Sustainable           1000   \n",
       "9  Mum's Shoulders       F           24      Sustainable           1000   \n",
       "\n",
       "   % of Trips per Day  \n",
       "0                0.01  \n",
       "1                0.01  \n",
       "2                0.01  \n",
       "3                0.01  \n",
       "4                0.01  \n",
       "5                0.01  \n",
       "6                0.02  \n",
       "7                0.00  \n",
       "8                0.00  \n",
       "9                0.02  "
      ]
     },
     "execution_count": 13,
     "metadata": {},
     "output_type": "execute_result"
    }
   ],
   "source": [
    "f.head(10)"
   ]
  },
  {
   "cell_type": "markdown",
   "metadata": {},
   "source": [
    "##### End Of Code"
   ]
  }
 ],
 "metadata": {
  "kernelspec": {
   "display_name": "Python 3",
   "language": "python",
   "name": "python3"
  },
  "language_info": {
   "codemirror_mode": {
    "name": "ipython",
    "version": 3
   },
   "file_extension": ".py",
   "mimetype": "text/x-python",
   "name": "python",
   "nbconvert_exporter": "python",
   "pygments_lexer": "ipython3",
   "version": "3.6.5"
  }
 },
 "nbformat": 4,
 "nbformat_minor": 4
}
