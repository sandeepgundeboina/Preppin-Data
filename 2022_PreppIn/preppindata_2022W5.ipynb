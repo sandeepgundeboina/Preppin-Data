{
 "cells": [
  {
   "cell_type": "code",
   "execution_count": 1,
   "metadata": {},
   "outputs": [],
   "source": [
    "import numpy as np\n",
    "import pandas as pd"
   ]
  },
  {
   "cell_type": "code",
   "execution_count": 2,
   "metadata": {},
   "outputs": [],
   "source": [
    "data=pd.read_excel('PD 2022 WK 3 Grades.xlsx')"
   ]
  },
  {
   "cell_type": "code",
   "execution_count": 3,
   "metadata": {},
   "outputs": [],
   "source": [
    "df_pivot = pd.melt(data, id_vars=['Student ID'],var_name='Subject', value_name='Score')"
   ]
  },
  {
   "cell_type": "code",
   "execution_count": 4,
   "metadata": {},
   "outputs": [
    {
     "data": {
      "text/html": [
       "<div>\n",
       "<style scoped>\n",
       "    .dataframe tbody tr th:only-of-type {\n",
       "        vertical-align: middle;\n",
       "    }\n",
       "\n",
       "    .dataframe tbody tr th {\n",
       "        vertical-align: top;\n",
       "    }\n",
       "\n",
       "    .dataframe thead th {\n",
       "        text-align: right;\n",
       "    }\n",
       "</style>\n",
       "<table border=\"1\" class=\"dataframe\">\n",
       "  <thead>\n",
       "    <tr style=\"text-align: right;\">\n",
       "      <th></th>\n",
       "      <th>Student ID</th>\n",
       "      <th>Subject</th>\n",
       "      <th>Score</th>\n",
       "    </tr>\n",
       "  </thead>\n",
       "  <tbody>\n",
       "    <tr>\n",
       "      <th>0</th>\n",
       "      <td>1</td>\n",
       "      <td>Maths</td>\n",
       "      <td>66</td>\n",
       "    </tr>\n",
       "    <tr>\n",
       "      <th>1</th>\n",
       "      <td>2</td>\n",
       "      <td>Maths</td>\n",
       "      <td>84</td>\n",
       "    </tr>\n",
       "    <tr>\n",
       "      <th>2</th>\n",
       "      <td>3</td>\n",
       "      <td>Maths</td>\n",
       "      <td>88</td>\n",
       "    </tr>\n",
       "    <tr>\n",
       "      <th>3</th>\n",
       "      <td>4</td>\n",
       "      <td>Maths</td>\n",
       "      <td>65</td>\n",
       "    </tr>\n",
       "    <tr>\n",
       "      <th>4</th>\n",
       "      <td>5</td>\n",
       "      <td>Maths</td>\n",
       "      <td>86</td>\n",
       "    </tr>\n",
       "  </tbody>\n",
       "</table>\n",
       "</div>"
      ],
      "text/plain": [
       "   Student ID Subject  Score\n",
       "0           1   Maths     66\n",
       "1           2   Maths     84\n",
       "2           3   Maths     88\n",
       "3           4   Maths     65\n",
       "4           5   Maths     86"
      ]
     },
     "execution_count": 4,
     "metadata": {},
     "output_type": "execute_result"
    }
   ],
   "source": [
    "df_pivot.head()"
   ]
  },
  {
   "cell_type": "code",
   "execution_count": 5,
   "metadata": {},
   "outputs": [],
   "source": [
    "label = ['F', 'E', 'D', 'C', 'B', 'A']\n",
    "df_pivot['Grade'] = df_pivot.groupby('Subject')['Score'].rank(method='first').transform(lambda x: pd.qcut(x, q=6, labels=label))"
   ]
  },
  {
   "cell_type": "code",
   "execution_count": 6,
   "metadata": {},
   "outputs": [],
   "source": [
    "points = {'A' : 10, 'B' : 8,'C' : 6, 'D' : 4, 'E' : 2, 'F' : 1}\n",
    "df_pivot['Points'] = df_pivot['Grade'].map(points)\n",
    "df_pivot['Points']=df_pivot['Points'].astype('int64')"
   ]
  },
  {
   "cell_type": "code",
   "execution_count": 7,
   "metadata": {},
   "outputs": [],
   "source": [
    "df_pivot['Total_points_per_student']=df_pivot.groupby('Student ID')['Points'].transform('sum')"
   ]
  },
  {
   "cell_type": "code",
   "execution_count": 8,
   "metadata": {},
   "outputs": [],
   "source": [
    "df_pivot['Avg student total points per grade'] = df_pivot.groupby('Grade')['Total_points_per_student']\\\n",
    "                                                                            .transform('mean').round(2)"
   ]
  },
  {
   "cell_type": "code",
   "execution_count": 9,
   "metadata": {},
   "outputs": [],
   "source": [
    "atleast_a = df_pivot[df_pivot['Grade']=='A']['Avg student total points per grade'].min()\n",
    "df_pivot = df_pivot.loc[df_pivot['Total_points_per_student'] >= atleast_a]"
   ]
  },
  {
   "cell_type": "code",
   "execution_count": 10,
   "metadata": {},
   "outputs": [],
   "source": [
    "df_pivot = df_pivot[df_pivot['Grade'] != 'A']"
   ]
  },
  {
   "cell_type": "code",
   "execution_count": 11,
   "metadata": {},
   "outputs": [
    {
     "data": {
      "text/html": [
       "<div>\n",
       "<style scoped>\n",
       "    .dataframe tbody tr th:only-of-type {\n",
       "        vertical-align: middle;\n",
       "    }\n",
       "\n",
       "    .dataframe tbody tr th {\n",
       "        vertical-align: top;\n",
       "    }\n",
       "\n",
       "    .dataframe thead th {\n",
       "        text-align: right;\n",
       "    }\n",
       "</style>\n",
       "<table border=\"1\" class=\"dataframe\">\n",
       "  <thead>\n",
       "    <tr style=\"text-align: right;\">\n",
       "      <th></th>\n",
       "      <th>Student ID</th>\n",
       "      <th>Subject</th>\n",
       "      <th>Score</th>\n",
       "      <th>Grade</th>\n",
       "      <th>Points</th>\n",
       "      <th>Total_points_per_student</th>\n",
       "      <th>Avg student total points per grade</th>\n",
       "    </tr>\n",
       "  </thead>\n",
       "  <tbody>\n",
       "    <tr>\n",
       "      <th>1313</th>\n",
       "      <td>314</td>\n",
       "      <td>English</td>\n",
       "      <td>89</td>\n",
       "      <td>B</td>\n",
       "      <td>8</td>\n",
       "      <td>45</td>\n",
       "      <td>38.91</td>\n",
       "    </tr>\n",
       "    <tr>\n",
       "      <th>1317</th>\n",
       "      <td>318</td>\n",
       "      <td>English</td>\n",
       "      <td>80</td>\n",
       "      <td>D</td>\n",
       "      <td>4</td>\n",
       "      <td>42</td>\n",
       "      <td>35.02</td>\n",
       "    </tr>\n",
       "    <tr>\n",
       "      <th>1324</th>\n",
       "      <td>325</td>\n",
       "      <td>English</td>\n",
       "      <td>64</td>\n",
       "      <td>F</td>\n",
       "      <td>1</td>\n",
       "      <td>43</td>\n",
       "      <td>31.68</td>\n",
       "    </tr>\n",
       "    <tr>\n",
       "      <th>1325</th>\n",
       "      <td>326</td>\n",
       "      <td>English</td>\n",
       "      <td>63</td>\n",
       "      <td>F</td>\n",
       "      <td>1</td>\n",
       "      <td>47</td>\n",
       "      <td>31.68</td>\n",
       "    </tr>\n",
       "    <tr>\n",
       "      <th>1327</th>\n",
       "      <td>328</td>\n",
       "      <td>English</td>\n",
       "      <td>77</td>\n",
       "      <td>D</td>\n",
       "      <td>4</td>\n",
       "      <td>42</td>\n",
       "      <td>35.02</td>\n",
       "    </tr>\n",
       "    <tr>\n",
       "      <th>...</th>\n",
       "      <td>...</td>\n",
       "      <td>...</td>\n",
       "      <td>...</td>\n",
       "      <td>...</td>\n",
       "      <td>...</td>\n",
       "      <td>...</td>\n",
       "      <td>...</td>\n",
       "    </tr>\n",
       "    <tr>\n",
       "      <th>1980</th>\n",
       "      <td>981</td>\n",
       "      <td>English</td>\n",
       "      <td>75</td>\n",
       "      <td>D</td>\n",
       "      <td>4</td>\n",
       "      <td>46</td>\n",
       "      <td>35.02</td>\n",
       "    </tr>\n",
       "    <tr>\n",
       "      <th>1987</th>\n",
       "      <td>988</td>\n",
       "      <td>English</td>\n",
       "      <td>87</td>\n",
       "      <td>B</td>\n",
       "      <td>8</td>\n",
       "      <td>46</td>\n",
       "      <td>38.91</td>\n",
       "    </tr>\n",
       "    <tr>\n",
       "      <th>1992</th>\n",
       "      <td>993</td>\n",
       "      <td>English</td>\n",
       "      <td>61</td>\n",
       "      <td>F</td>\n",
       "      <td>1</td>\n",
       "      <td>42</td>\n",
       "      <td>31.68</td>\n",
       "    </tr>\n",
       "    <tr>\n",
       "      <th>1993</th>\n",
       "      <td>994</td>\n",
       "      <td>English</td>\n",
       "      <td>82</td>\n",
       "      <td>C</td>\n",
       "      <td>6</td>\n",
       "      <td>42</td>\n",
       "      <td>36.84</td>\n",
       "    </tr>\n",
       "    <tr>\n",
       "      <th>1995</th>\n",
       "      <td>996</td>\n",
       "      <td>English</td>\n",
       "      <td>85</td>\n",
       "      <td>C</td>\n",
       "      <td>6</td>\n",
       "      <td>49</td>\n",
       "      <td>36.84</td>\n",
       "    </tr>\n",
       "  </tbody>\n",
       "</table>\n",
       "<p>135 rows × 7 columns</p>\n",
       "</div>"
      ],
      "text/plain": [
       "      Student ID  Subject  Score Grade  Points  Total_points_per_student  \\\n",
       "1313         314  English     89     B       8                        45   \n",
       "1317         318  English     80     D       4                        42   \n",
       "1324         325  English     64     F       1                        43   \n",
       "1325         326  English     63     F       1                        47   \n",
       "1327         328  English     77     D       4                        42   \n",
       "...          ...      ...    ...   ...     ...                       ...   \n",
       "1980         981  English     75     D       4                        46   \n",
       "1987         988  English     87     B       8                        46   \n",
       "1992         993  English     61     F       1                        42   \n",
       "1993         994  English     82     C       6                        42   \n",
       "1995         996  English     85     C       6                        49   \n",
       "\n",
       "      Avg student total points per grade  \n",
       "1313                               38.91  \n",
       "1317                               35.02  \n",
       "1324                               31.68  \n",
       "1325                               31.68  \n",
       "1327                               35.02  \n",
       "...                                  ...  \n",
       "1980                               35.02  \n",
       "1987                               38.91  \n",
       "1992                               31.68  \n",
       "1993                               36.84  \n",
       "1995                               36.84  \n",
       "\n",
       "[135 rows x 7 columns]"
      ]
     },
     "execution_count": 11,
     "metadata": {},
     "output_type": "execute_result"
    }
   ],
   "source": [
    "df_pivot[(df_pivot['Subject']=='English')&(df_pivot['Student ID']>300)]"
   ]
  },
  {
   "cell_type": "markdown",
   "metadata": {},
   "source": [
    "##### End of Code"
   ]
  }
 ],
 "metadata": {
  "kernelspec": {
   "display_name": "Python 3",
   "language": "python",
   "name": "python3"
  },
  "language_info": {
   "codemirror_mode": {
    "name": "ipython",
    "version": 3
   },
   "file_extension": ".py",
   "mimetype": "text/x-python",
   "name": "python",
   "nbconvert_exporter": "python",
   "pygments_lexer": "ipython3",
   "version": "3.6.5"
  }
 },
 "nbformat": 4,
 "nbformat_minor": 4
}
